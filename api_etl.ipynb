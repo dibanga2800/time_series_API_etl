{
 "cells": [
  {
   "cell_type": "code",
   "execution_count": 116,
   "id": "7397b7eb",
   "metadata": {},
   "outputs": [],
   "source": [
    "import pandas as pd\n",
    "import requests\n",
    "from dotenv import load_dotenv\n",
    "import os"
   ]
  },
  {
   "cell_type": "code",
   "execution_count": 117,
   "id": "2be62059",
   "metadata": {},
   "outputs": [
    {
     "name": "stdout",
     "output_type": "stream",
     "text": [
      "Defaulting to user installation because normal site-packages is not writeableNote: you may need to restart the kernel to use updated packages.\n",
      "\n",
      "Requirement already satisfied: psycopg2-binary in c:\\users\\david ibanga\\appdata\\roaming\\python\\python312\\site-packages (2.9.10)\n"
     ]
    }
   ],
   "source": [
    "%pip install psycopg2-binary"
   ]
  },
  {
   "cell_type": "code",
   "execution_count": 118,
   "id": "dd27f385",
   "metadata": {},
   "outputs": [
    {
     "name": "stdout",
     "output_type": "stream",
     "text": [
      "\n",
      "✅ Data for AAPL:\n",
      "{'meta': {'symbol': 'AAPL', 'interval': '1min', 'currency': 'USD', 'exchange_timezone': 'America/New_York', 'exchange': 'NASDAQ', 'mic_code': 'XNGS', 'type': 'Common Stock'}, 'values': [{'datetime': '2025-07-21 15:59:00', 'open': '212.35001', 'high': '212.56000', 'low': '212.28000', 'close': '212.53999', 'volume': '890116'}, {'datetime': '2025-07-21 15:58:00', 'open': '212.25999', 'high': '212.35001', 'low': '212.21', 'close': '212.35001', 'volume': '222906'}, {'datetime': '2025-07-21 15:57:00', 'open': '212.28500', 'high': '212.34500', 'low': '212.23', 'close': '212.26500', 'volume': '174803'}, {'datetime': '2025-07-21 15:56:00', 'open': '212.20000', 'high': '212.32001', 'low': '212.14000', 'close': '212.28500', 'volume': '184871'}, {'datetime': '2025-07-21 15:55:00', 'open': '212.20000', 'high': '212.25', 'low': '212.079300', 'close': '212.19859', 'volume': '188359'}, {'datetime': '2025-07-21 15:54:00', 'open': '212.32001', 'high': '212.34000', 'low': '212.070007', 'close': '212.20000', 'volume': '190117'}, {'datetime': '2025-07-21 15:53:00', 'open': '212.30000', 'high': '212.405', 'low': '212.27499', 'close': '212.32500', 'volume': '95913'}, {'datetime': '2025-07-21 15:52:00', 'open': '212.35500', 'high': '212.42', 'low': '212.28500', 'close': '212.31000', 'volume': '91985'}, {'datetime': '2025-07-21 15:51:00', 'open': '212.35001', 'high': '212.47501', 'low': '212.33', 'close': '212.36000', 'volume': '172273'}, {'datetime': '2025-07-21 15:50:00', 'open': '212.17999', 'high': '212.35500', 'low': '212.1', 'close': '212.35500', 'volume': '173320'}, {'datetime': '2025-07-21 15:49:00', 'open': '212.17999', 'high': '212.23', 'low': '212.16141', 'close': '212.17500', 'volume': '96835'}, {'datetime': '2025-07-21 15:48:00', 'open': '212.19000', 'high': '212.21500', 'low': '212.13000', 'close': '212.17999', 'volume': '67263'}, {'datetime': '2025-07-21 15:47:00', 'open': '212.24001', 'high': '212.24001', 'low': '212.14999', 'close': '212.19000', 'volume': '90298'}, {'datetime': '2025-07-21 15:46:00', 'open': '212.30000', 'high': '212.30499', 'low': '212.20000', 'close': '212.23000', 'volume': '94368'}, {'datetime': '2025-07-21 15:45:00', 'open': '212.35500', 'high': '212.37000', 'low': '212.27350', 'close': '212.31010', 'volume': '78579'}, {'datetime': '2025-07-21 15:44:00', 'open': '212.35001', 'high': '212.38000', 'low': '212.28999', 'close': '212.35001', 'volume': '82385'}, {'datetime': '2025-07-21 15:43:00', 'open': '212.45120', 'high': '212.45120', 'low': '212.33000', 'close': '212.35240', 'volume': '101564'}, {'datetime': '2025-07-21 15:42:00', 'open': '212.60001', 'high': '212.61501', 'low': '212.45500', 'close': '212.45500', 'volume': '110118'}, {'datetime': '2025-07-21 15:41:00', 'open': '212.67000', 'high': '212.68', 'low': '212.60500', 'close': '212.61000', 'volume': '50817'}, {'datetime': '2025-07-21 15:40:00', 'open': '212.69000', 'high': '212.71001', 'low': '212.66', 'close': '212.67999', 'volume': '59737'}, {'datetime': '2025-07-21 15:39:00', 'open': '212.69501', 'high': '212.70500', 'low': '212.67000', 'close': '212.68990', 'volume': '32631'}, {'datetime': '2025-07-21 15:38:00', 'open': '212.67889', 'high': '212.71001', 'low': '212.675', 'close': '212.69000', 'volume': '50382'}, {'datetime': '2025-07-21 15:37:00', 'open': '212.66000', 'high': '212.68500', 'low': '212.62019', 'close': '212.66000', 'volume': '57232'}, {'datetime': '2025-07-21 15:36:00', 'open': '212.68500', 'high': '212.70500', 'low': '212.64481', 'close': '212.67000', 'volume': '47716'}, {'datetime': '2025-07-21 15:35:00', 'open': '212.64999', 'high': '212.71860', 'low': '212.63499', 'close': '212.68130', 'volume': '68273'}, {'datetime': '2025-07-21 15:34:00', 'open': '212.61501', 'high': '212.68', 'low': '212.6', 'close': '212.64999', 'volume': '52692'}, {'datetime': '2025-07-21 15:33:00', 'open': '212.625', 'high': '212.65660', 'low': '212.57001', 'close': '212.62250', 'volume': '41843'}, {'datetime': '2025-07-21 15:32:00', 'open': '212.65500', 'high': '212.70000', 'low': '212.61501', 'close': '212.625', 'volume': '67689'}, {'datetime': '2025-07-21 15:31:00', 'open': '212.54500', 'high': '212.665', 'low': '212.53999', 'close': '212.65440', 'volume': '64787'}, {'datetime': '2025-07-21 15:30:00', 'open': '212.58000', 'high': '212.58009', 'low': '212.5', 'close': '212.53000', 'volume': '108579'}], 'status': 'ok'}\n",
      "\n",
      "✅ Data for EUR/USD:\n",
      "{'meta': {'symbol': 'EUR/USD', 'interval': '1min', 'currency_base': 'Euro', 'currency_quote': 'US Dollar', 'type': 'Physical Currency'}, 'values': [{'datetime': '2025-07-22 17:38:00', 'open': '1.16895', 'high': '1.16901', 'low': '1.16881', 'close': '1.16884'}, {'datetime': '2025-07-22 17:37:00', 'open': '1.16888', 'high': '1.16892', 'low': '1.16883', 'close': '1.16886'}, {'datetime': '2025-07-22 17:36:00', 'open': '1.16889', 'high': '1.16893', 'low': '1.1688', 'close': '1.16887'}, {'datetime': '2025-07-22 17:35:00', 'open': '1.16888', 'high': '1.16893', 'low': '1.16883', 'close': '1.16888'}, {'datetime': '2025-07-22 17:34:00', 'open': '1.1689', 'high': '1.169', 'low': '1.16886', 'close': '1.16897'}, {'datetime': '2025-07-22 17:33:00', 'open': '1.16888', 'high': '1.16903', 'low': '1.16883', 'close': '1.16899'}, {'datetime': '2025-07-22 17:32:00', 'open': '1.16887', 'high': '1.16891', 'low': '1.16883', 'close': '1.16887'}, {'datetime': '2025-07-22 17:31:00', 'open': '1.16892', 'high': '1.16897', 'low': '1.16883', 'close': '1.16886'}, {'datetime': '2025-07-22 17:30:00', 'open': '1.16886', 'high': '1.16898', 'low': '1.16882', 'close': '1.16893'}, {'datetime': '2025-07-22 17:29:00', 'open': '1.16882', 'high': '1.16891', 'low': '1.16879', 'close': '1.16886'}, {'datetime': '2025-07-22 17:28:00', 'open': '1.16877', 'high': '1.16894', 'low': '1.16869', 'close': '1.16885'}, {'datetime': '2025-07-22 17:27:00', 'open': '1.16869', 'high': '1.16885', 'low': '1.16864', 'close': '1.16874'}, {'datetime': '2025-07-22 17:26:00', 'open': '1.16868', 'high': '1.16877', 'low': '1.16865', 'close': '1.16868'}, {'datetime': '2025-07-22 17:25:00', 'open': '1.16857', 'high': '1.16873', 'low': '1.16854', 'close': '1.16869'}, {'datetime': '2025-07-22 17:24:00', 'open': '1.16862', 'high': '1.16869', 'low': '1.16854', 'close': '1.16857'}, {'datetime': '2025-07-22 17:23:00', 'open': '1.16857', 'high': '1.1688', 'low': '1.16852', 'close': '1.16874'}, {'datetime': '2025-07-22 17:22:00', 'open': '1.16851', 'high': '1.16856', 'low': '1.16842', 'close': '1.16852'}, {'datetime': '2025-07-22 17:21:00', 'open': '1.16853', 'high': '1.16857', 'low': '1.16844', 'close': '1.16852'}, {'datetime': '2025-07-22 17:20:00', 'open': '1.16854', 'high': '1.16865', 'low': '1.16847', 'close': '1.1685'}, {'datetime': '2025-07-22 17:19:00', 'open': '1.16846', 'high': '1.16852', 'low': '1.16834', 'close': '1.16843'}, {'datetime': '2025-07-22 17:18:00', 'open': '1.16837', 'high': '1.16862', 'low': '1.16833', 'close': '1.16846'}, {'datetime': '2025-07-22 17:17:00', 'open': '1.16852', 'high': '1.16855', 'low': '1.16833', 'close': '1.16839'}, {'datetime': '2025-07-22 17:16:00', 'open': '1.16855', 'high': '1.16858', 'low': '1.16844', 'close': '1.16851'}, {'datetime': '2025-07-22 17:15:00', 'open': '1.16859', 'high': '1.16871', 'low': '1.16855', 'close': '1.16867'}, {'datetime': '2025-07-22 17:14:00', 'open': '1.1687', 'high': '1.16874', 'low': '1.16852', 'close': '1.1687'}, {'datetime': '2025-07-22 17:13:00', 'open': '1.16878', 'high': '1.16881', 'low': '1.16865', 'close': '1.16868'}, {'datetime': '2025-07-22 17:12:00', 'open': '1.16879', 'high': '1.16884', 'low': '1.16873', 'close': '1.16876'}, {'datetime': '2025-07-22 17:11:00', 'open': '1.16867', 'high': '1.16888', 'low': '1.16863', 'close': '1.16878'}, {'datetime': '2025-07-22 17:10:00', 'open': '1.1687', 'high': '1.16889', 'low': '1.16864', 'close': '1.16871'}, {'datetime': '2025-07-22 17:09:00', 'open': '1.16884', 'high': '1.16887', 'low': '1.16855', 'close': '1.1686'}], 'status': 'ok'}\n",
      "\n",
      "✅ Data for BTC/USD:\n",
      "{'meta': {'symbol': 'BTC/USD', 'interval': '1min', 'currency_base': 'Bitcoin', 'currency_quote': 'US Dollar', 'exchange': 'Coinbase Pro', 'type': 'Digital Currency'}, 'values': [{'datetime': '2025-07-22 07:39:00', 'open': '118326.75', 'high': '118348.53', 'low': '118272.13', 'close': '118272.61'}, {'datetime': '2025-07-22 07:38:00', 'open': '118328.52', 'high': '118333.78', 'low': '118284.98', 'close': '118326.7'}, {'datetime': '2025-07-22 07:37:00', 'open': '118417.56', 'high': '118419.64', 'low': '118328.49', 'close': '118328.52'}, {'datetime': '2025-07-22 07:36:00', 'open': '118324.2', 'high': '118440.71', 'low': '118324.2', 'close': '118410.26'}, {'datetime': '2025-07-22 07:35:00', 'open': '118273.07', 'high': '118324.2', 'low': '118273.07', 'close': '118324.2'}, {'datetime': '2025-07-22 07:34:00', 'open': '118286.27', 'high': '118310.25', 'low': '118264.34', 'close': '118267.45'}, {'datetime': '2025-07-22 07:33:00', 'open': '118353.67', 'high': '118359.21', 'low': '118257.69', 'close': '118286.26'}, {'datetime': '2025-07-22 07:32:00', 'open': '118376.87', 'high': '118376.87', 'low': '118304.8', 'close': '118359.67'}, {'datetime': '2025-07-22 07:31:00', 'open': '118443.91', 'high': '118456.13', 'low': '118326.01', 'close': '118376.88'}, {'datetime': '2025-07-22 07:30:00', 'open': '118620.62', 'high': '118631.74', 'low': '118443.9', 'close': '118443.91'}, {'datetime': '2025-07-22 07:29:00', 'open': '118636.1', 'high': '118641.86', 'low': '118570.21', 'close': '118620.61'}, {'datetime': '2025-07-22 07:28:00', 'open': '118580.39', 'high': '118641.86', 'low': '118568.75', 'close': '118636.1'}, {'datetime': '2025-07-22 07:27:00', 'open': '118563.5', 'high': '118580.39', 'low': '118560', 'close': '118580.39'}, {'datetime': '2025-07-22 07:26:00', 'open': '118564.95', 'high': '118569.36', 'low': '118528.74', 'close': '118560'}, {'datetime': '2025-07-22 07:25:00', 'open': '118460.28', 'high': '118577.99', 'low': '118460.28', 'close': '118559.29'}, {'datetime': '2025-07-22 07:24:00', 'open': '118410.2', 'high': '118468.08', 'low': '118410.19', 'close': '118460.28'}, {'datetime': '2025-07-22 07:23:00', 'open': '118410.01', 'high': '118417.37', 'low': '118403.56', 'close': '118410.2'}, {'datetime': '2025-07-22 07:22:00', 'open': '118452.38', 'high': '118462.25', 'low': '118394.07', 'close': '118410.01'}, {'datetime': '2025-07-22 07:21:00', 'open': '118340.42', 'high': '118468.35', 'low': '118330.26', 'close': '118452.37'}, {'datetime': '2025-07-22 07:20:00', 'open': '118368.43', 'high': '118435.86', 'low': '118327.49', 'close': '118340.42'}, {'datetime': '2025-07-22 07:19:00', 'open': '118354.04', 'high': '118370.37', 'low': '118341.56', 'close': '118368.43'}, {'datetime': '2025-07-22 07:18:00', 'open': '118287.95', 'high': '118390.2', 'low': '118287.95', 'close': '118354.03'}, {'datetime': '2025-07-22 07:17:00', 'open': '118338.13', 'high': '118344.3', 'low': '118287.92', 'close': '118290.5'}, {'datetime': '2025-07-22 07:16:00', 'open': '118376.54', 'high': '118380.53', 'low': '118335.04', 'close': '118338.13'}, {'datetime': '2025-07-22 07:15:00', 'open': '118339.59', 'high': '118386.57', 'low': '118283.84', 'close': '118376.65'}, {'datetime': '2025-07-22 07:14:00', 'open': '118298.83', 'high': '118341.75', 'low': '118278.83', 'close': '118337.45'}, {'datetime': '2025-07-22 07:13:00', 'open': '118245.89', 'high': '118298.87', 'low': '118245.89', 'close': '118298.82'}, {'datetime': '2025-07-22 07:12:00', 'open': '118254.48', 'high': '118269.19', 'low': '118191.68', 'close': '118245.91'}, {'datetime': '2025-07-22 07:11:00', 'open': '118245.44', 'high': '118266.47', 'low': '118219.34', 'close': '118254.47'}, {'datetime': '2025-07-22 07:10:00', 'open': '118158.04', 'high': '118259.6', 'low': '118139.25', 'close': '118245.55'}], 'status': 'ok'}\n"
     ]
    }
   ],
   "source": [
    "\n",
    "# Load the API key from .env file   \n",
    "load_dotenv()\n",
    "API_KEY = os.getenv(\"API_KEY\")\n",
    "\n",
    "# Fetch time series data for a given symbol.\n",
    "def fetch_data(symbol):\n",
    "    url = f\"https://api.twelvedata.com/time_series?symbol={symbol}&interval=1min&apikey={API_KEY}\"\n",
    "    response = requests.get(url)\n",
    "    \n",
    "    if response.status_code == 200:\n",
    "        return response.json()  \n",
    "    else:\n",
    "        print(f\"Failed to fetch data for {symbol}. Status code: {response.status_code}\")\n",
    "        return None\n",
    "\n",
    "# List of symbols to fetch data for\n",
    "symbols = [\"AAPL\", \"EUR/USD\", \"BTC/USD\"]\n",
    "\n",
    "# Fetch and print data for each symbol\n",
    "for symbol in symbols:\n",
    "    data = fetch_data(symbol)\n",
    "    if data:\n",
    "        print(f\"\\n✅ Data for {symbol}:\")\n",
    "        print(data)\n",
    "    else:\n",
    "        print(f\"\\n❌ No data returned for {symbol}\")\n",
    "\n"
   ]
  },
  {
   "cell_type": "code",
   "execution_count": 119,
   "id": "0365690c",
   "metadata": {},
   "outputs": [
    {
     "data": {
      "text/plain": [
       "{'meta': {'symbol': 'BTC/USD',\n",
       "  'interval': '1min',\n",
       "  'currency_base': 'Bitcoin',\n",
       "  'currency_quote': 'US Dollar',\n",
       "  'exchange': 'Coinbase Pro',\n",
       "  'type': 'Digital Currency'},\n",
       " 'values': [{'datetime': '2025-07-22 07:39:00',\n",
       "   'open': '118326.75',\n",
       "   'high': '118348.53',\n",
       "   'low': '118272.13',\n",
       "   'close': '118272.61'},\n",
       "  {'datetime': '2025-07-22 07:38:00',\n",
       "   'open': '118328.52',\n",
       "   'high': '118333.78',\n",
       "   'low': '118284.98',\n",
       "   'close': '118326.7'},\n",
       "  {'datetime': '2025-07-22 07:37:00',\n",
       "   'open': '118417.56',\n",
       "   'high': '118419.64',\n",
       "   'low': '118328.49',\n",
       "   'close': '118328.52'},\n",
       "  {'datetime': '2025-07-22 07:36:00',\n",
       "   'open': '118324.2',\n",
       "   'high': '118440.71',\n",
       "   'low': '118324.2',\n",
       "   'close': '118410.26'},\n",
       "  {'datetime': '2025-07-22 07:35:00',\n",
       "   'open': '118273.07',\n",
       "   'high': '118324.2',\n",
       "   'low': '118273.07',\n",
       "   'close': '118324.2'},\n",
       "  {'datetime': '2025-07-22 07:34:00',\n",
       "   'open': '118286.27',\n",
       "   'high': '118310.25',\n",
       "   'low': '118264.34',\n",
       "   'close': '118267.45'},\n",
       "  {'datetime': '2025-07-22 07:33:00',\n",
       "   'open': '118353.67',\n",
       "   'high': '118359.21',\n",
       "   'low': '118257.69',\n",
       "   'close': '118286.26'},\n",
       "  {'datetime': '2025-07-22 07:32:00',\n",
       "   'open': '118376.87',\n",
       "   'high': '118376.87',\n",
       "   'low': '118304.8',\n",
       "   'close': '118359.67'},\n",
       "  {'datetime': '2025-07-22 07:31:00',\n",
       "   'open': '118443.91',\n",
       "   'high': '118456.13',\n",
       "   'low': '118326.01',\n",
       "   'close': '118376.88'},\n",
       "  {'datetime': '2025-07-22 07:30:00',\n",
       "   'open': '118620.62',\n",
       "   'high': '118631.74',\n",
       "   'low': '118443.9',\n",
       "   'close': '118443.91'},\n",
       "  {'datetime': '2025-07-22 07:29:00',\n",
       "   'open': '118636.1',\n",
       "   'high': '118641.86',\n",
       "   'low': '118570.21',\n",
       "   'close': '118620.61'},\n",
       "  {'datetime': '2025-07-22 07:28:00',\n",
       "   'open': '118580.39',\n",
       "   'high': '118641.86',\n",
       "   'low': '118568.75',\n",
       "   'close': '118636.1'},\n",
       "  {'datetime': '2025-07-22 07:27:00',\n",
       "   'open': '118563.5',\n",
       "   'high': '118580.39',\n",
       "   'low': '118560',\n",
       "   'close': '118580.39'},\n",
       "  {'datetime': '2025-07-22 07:26:00',\n",
       "   'open': '118564.95',\n",
       "   'high': '118569.36',\n",
       "   'low': '118528.74',\n",
       "   'close': '118560'},\n",
       "  {'datetime': '2025-07-22 07:25:00',\n",
       "   'open': '118460.28',\n",
       "   'high': '118577.99',\n",
       "   'low': '118460.28',\n",
       "   'close': '118559.29'},\n",
       "  {'datetime': '2025-07-22 07:24:00',\n",
       "   'open': '118410.2',\n",
       "   'high': '118468.08',\n",
       "   'low': '118410.19',\n",
       "   'close': '118460.28'},\n",
       "  {'datetime': '2025-07-22 07:23:00',\n",
       "   'open': '118410.01',\n",
       "   'high': '118417.37',\n",
       "   'low': '118403.56',\n",
       "   'close': '118410.2'},\n",
       "  {'datetime': '2025-07-22 07:22:00',\n",
       "   'open': '118452.38',\n",
       "   'high': '118462.25',\n",
       "   'low': '118394.07',\n",
       "   'close': '118410.01'},\n",
       "  {'datetime': '2025-07-22 07:21:00',\n",
       "   'open': '118340.42',\n",
       "   'high': '118468.35',\n",
       "   'low': '118330.26',\n",
       "   'close': '118452.37'},\n",
       "  {'datetime': '2025-07-22 07:20:00',\n",
       "   'open': '118368.43',\n",
       "   'high': '118435.86',\n",
       "   'low': '118327.49',\n",
       "   'close': '118340.42'},\n",
       "  {'datetime': '2025-07-22 07:19:00',\n",
       "   'open': '118354.04',\n",
       "   'high': '118370.37',\n",
       "   'low': '118341.56',\n",
       "   'close': '118368.43'},\n",
       "  {'datetime': '2025-07-22 07:18:00',\n",
       "   'open': '118287.95',\n",
       "   'high': '118390.2',\n",
       "   'low': '118287.95',\n",
       "   'close': '118354.03'},\n",
       "  {'datetime': '2025-07-22 07:17:00',\n",
       "   'open': '118338.13',\n",
       "   'high': '118344.3',\n",
       "   'low': '118287.92',\n",
       "   'close': '118290.5'},\n",
       "  {'datetime': '2025-07-22 07:16:00',\n",
       "   'open': '118376.54',\n",
       "   'high': '118380.53',\n",
       "   'low': '118335.04',\n",
       "   'close': '118338.13'},\n",
       "  {'datetime': '2025-07-22 07:15:00',\n",
       "   'open': '118339.59',\n",
       "   'high': '118386.57',\n",
       "   'low': '118283.84',\n",
       "   'close': '118376.65'},\n",
       "  {'datetime': '2025-07-22 07:14:00',\n",
       "   'open': '118298.83',\n",
       "   'high': '118341.75',\n",
       "   'low': '118278.83',\n",
       "   'close': '118337.45'},\n",
       "  {'datetime': '2025-07-22 07:13:00',\n",
       "   'open': '118245.89',\n",
       "   'high': '118298.87',\n",
       "   'low': '118245.89',\n",
       "   'close': '118298.82'},\n",
       "  {'datetime': '2025-07-22 07:12:00',\n",
       "   'open': '118254.48',\n",
       "   'high': '118269.19',\n",
       "   'low': '118191.68',\n",
       "   'close': '118245.91'},\n",
       "  {'datetime': '2025-07-22 07:11:00',\n",
       "   'open': '118245.44',\n",
       "   'high': '118266.47',\n",
       "   'low': '118219.34',\n",
       "   'close': '118254.47'},\n",
       "  {'datetime': '2025-07-22 07:10:00',\n",
       "   'open': '118158.04',\n",
       "   'high': '118259.6',\n",
       "   'low': '118139.25',\n",
       "   'close': '118245.55'}],\n",
       " 'status': 'ok'}"
      ]
     },
     "execution_count": 119,
     "metadata": {},
     "output_type": "execute_result"
    }
   ],
   "source": [
    "data"
   ]
  },
  {
   "cell_type": "code",
   "execution_count": 120,
   "id": "7ab952bb",
   "metadata": {},
   "outputs": [],
   "source": [
    "def transform_data(data, symbol=None):\n",
    "    time_series = data['values']\n",
    "    df = pd.DataFrame(time_series)\n",
    "\n",
    "    # Add a new column for the symbol \n",
    "    if symbol:\n",
    "        df['symbol'] = symbol\n",
    "\n",
    "    # Convert 'datetime' to datetime object\n",
    "    df['datetime'] = pd.to_datetime(df['datetime'])\n",
    "\n",
    "    # Check if 'volume' column exists, if not, set it to NaN or omit it\n",
    "    if 'volume' in df.columns:\n",
    "        df['volume'] = df['volume'].astype(float)\n",
    "    else:\n",
    "        df['volume'] = pd.NA  # or use 'None' or 0 \n",
    "\n",
    "    # Convert other columns to correct data types\n",
    "    df = df.astype({\n",
    "        'open': 'float',\n",
    "        'high': 'float',\n",
    "        'low': 'float',\n",
    "        'close': 'float'\n",
    "    })\n",
    "    \n",
    "    return df"
   ]
  },
  {
   "cell_type": "code",
   "execution_count": 121,
   "id": "bcf54afd",
   "metadata": {},
   "outputs": [
    {
     "name": "stdout",
     "output_type": "stream",
     "text": [
      "              datetime          open          high          low         close  \\\n",
      "0  2025-07-21 15:59:00     212.35001     212.56000     212.2800     212.53999   \n",
      "1  2025-07-21 15:58:00     212.25999     212.35001     212.2100     212.35001   \n",
      "2  2025-07-21 15:57:00     212.28500     212.34500     212.2300     212.26500   \n",
      "3  2025-07-21 15:56:00     212.20000     212.32001     212.1400     212.28500   \n",
      "4  2025-07-21 15:55:00     212.20000     212.25000     212.0793     212.19859   \n",
      "..                 ...           ...           ...          ...           ...   \n",
      "85 2025-07-22 07:14:00  118298.83000  118341.75000  118278.8300  118337.45000   \n",
      "86 2025-07-22 07:13:00  118245.89000  118298.87000  118245.8900  118298.82000   \n",
      "87 2025-07-22 07:12:00  118254.48000  118269.19000  118191.6800  118245.91000   \n",
      "88 2025-07-22 07:11:00  118245.44000  118266.47000  118219.3400  118254.47000   \n",
      "89 2025-07-22 07:10:00  118158.04000  118259.60000  118139.2500  118245.55000   \n",
      "\n",
      "      volume   symbol  \n",
      "0   890116.0     AAPL  \n",
      "1   222906.0     AAPL  \n",
      "2   174803.0     AAPL  \n",
      "3   184871.0     AAPL  \n",
      "4   188359.0     AAPL  \n",
      "..       ...      ...  \n",
      "85       NaN  BTC/USD  \n",
      "86       NaN  BTC/USD  \n",
      "87       NaN  BTC/USD  \n",
      "88       NaN  BTC/USD  \n",
      "89       NaN  BTC/USD  \n",
      "\n",
      "[90 rows x 7 columns]\n"
     ]
    },
    {
     "name": "stderr",
     "output_type": "stream",
     "text": [
      "C:\\Users\\David Ibanga\\AppData\\Local\\Temp\\ipykernel_39464\\3617618726.py:13: FutureWarning: The behavior of DataFrame concatenation with empty or all-NA entries is deprecated. In a future version, this will no longer exclude empty or all-NA columns when determining the result dtypes. To retain the old behavior, exclude the relevant entries before the concat operation.\n",
      "  combined_df = pd.concat(all_data, ignore_index=True)\n"
     ]
    }
   ],
   "source": [
    "# Process and combine data for all symbols\n",
    "def process_symbols(symbols):\n",
    "    all_data = []  # List to store transformed data for all symbols\n",
    "    \n",
    "    for symbol in symbols:\n",
    "        # Fetch and transform the data for the current symbol\n",
    "        data = fetch_data(symbol)\n",
    "        if data:\n",
    "            transformed_data = transform_data(data, symbol)\n",
    "            all_data.append(transformed_data)\n",
    "    \n",
    "    # Combine all transformed data into a single DataFrame\n",
    "    combined_df = pd.concat(all_data, ignore_index=True)\n",
    "    return combined_df\n",
    "\n",
    "# Process and combine data for all symbols\n",
    "df_all_symbols = process_symbols(symbols)\n",
    "print(df_all_symbols)"
   ]
  },
  {
   "cell_type": "code",
   "execution_count": 122,
   "id": "7553bb92",
   "metadata": {},
   "outputs": [],
   "source": [
    "# Save the DataFrame to CSV\n",
    "df_all_symbols.to_csv('symbol_data.csv', index=False)\n"
   ]
  },
  {
   "cell_type": "code",
   "execution_count": 123,
   "id": "cda45713",
   "metadata": {},
   "outputs": [
    {
     "name": "stdout",
     "output_type": "stream",
     "text": [
      "Defaulting to user installation because normal site-packages is not writeableNote: you may need to restart the kernel to use updated packages.\n",
      "\n",
      "Requirement already satisfied: psycopg2-binary in c:\\users\\david ibanga\\appdata\\roaming\\python\\python312\\site-packages (2.9.10)\n"
     ]
    }
   ],
   "source": [
    "%pip install psycopg2-binary"
   ]
  },
  {
   "cell_type": "markdown",
   "id": "9c310f28",
   "metadata": {},
   "source": [
    "## Data Loading"
   ]
  },
  {
   "cell_type": "code",
   "execution_count": 124,
   "id": "379e74a6",
   "metadata": {},
   "outputs": [
    {
     "name": "stdout",
     "output_type": "stream",
     "text": [
      "Data has been saved to both CSV and PostgreSQL.\n"
     ]
    }
   ],
   "source": [
    "# Save to PostgreSQL\n",
    "import psycopg2\n",
    "import os\n",
    "from sqlalchemy import create_engine\n",
    "from dotenv import load_dotenv\n",
    "from urllib.parse import quote_plus\n",
    "\n",
    "# PostgreSQL credentials\n",
    "load_dotenv()\n",
    "DB_HOST = os.getenv('DB_HOST')\n",
    "DB_PORT = os.getenv('DB_PORT')\n",
    "DB_NAME = os.getenv('DB_NAME')\n",
    "DB_USER = os.getenv('DB_USER') or 'postgres'  # fallback to 'postgres' if not set\n",
    "DB_PASSWORD = os.getenv('DB_PASSWORD')\n",
    "\n",
    "# URL-encode the password to handle special characters like '@'\n",
    "DB_PASSWORD_ENC = quote_plus(DB_PASSWORD)\n",
    "\n",
    "\n",
    "# Create connection to PostgreSQL using SQLAlchemy engine\n",
    "db_url = f'postgresql://{DB_USER}:{DB_PASSWORD_ENC}@{DB_HOST}:{DB_PORT}/{DB_NAME}'\n",
    "engine = create_engine(db_url)\n",
    "\n",
    "# Save DataFrame to PostgreSQL database\n",
    "df_all_symbols.to_sql('symbol_data_table', engine, if_exists='replace', index=False)\n",
    "\n",
    "print(\"Data has been saved to both CSV and PostgreSQL.\")\n",
    "\n",
    "\n",
    "\n",
    "\n"
   ]
  },
  {
   "cell_type": "markdown",
   "id": "28fb855d",
   "metadata": {},
   "source": [
    "# https://twelvedata.com/account/api-playground"
   ]
  }
 ],
 "metadata": {
  "kernelspec": {
   "display_name": "base",
   "language": "python",
   "name": "python3"
  },
  "language_info": {
   "codemirror_mode": {
    "name": "ipython",
    "version": 3
   },
   "file_extension": ".py",
   "mimetype": "text/x-python",
   "name": "python",
   "nbconvert_exporter": "python",
   "pygments_lexer": "ipython3",
   "version": "3.12.7"
  }
 },
 "nbformat": 4,
 "nbformat_minor": 5
}
